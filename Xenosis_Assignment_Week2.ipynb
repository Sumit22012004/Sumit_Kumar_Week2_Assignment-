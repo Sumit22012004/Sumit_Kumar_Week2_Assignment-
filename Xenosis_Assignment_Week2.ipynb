{
  "nbformat": 4,
  "nbformat_minor": 0,
  "metadata": {
    "colab": {
      "provenance": [],
      "authorship_tag": "ABX9TyPzDOva/jg1+d3KkFV1OqMK",
      "include_colab_link": true
    },
    "kernelspec": {
      "name": "python3",
      "display_name": "Python 3"
    },
    "language_info": {
      "name": "python"
    }
  },
  "cells": [
    {
      "cell_type": "markdown",
      "metadata": {
        "id": "view-in-github",
        "colab_type": "text"
      },
      "source": [
        "<a href=\"https://colab.research.google.com/github/Sumit22012004/Sumit_Kumar_Week2_Assignment-/blob/main/Xenosis_Assignment_Week2.ipynb\" target=\"_parent\"><img src=\"https://colab.research.google.com/assets/colab-badge.svg\" alt=\"Open In Colab\"/></a>"
      ]
    },
    {
      "cell_type": "code",
      "execution_count": null,
      "metadata": {
        "id": "se4Z_QBl77uL"
      },
      "outputs": [],
      "source": [
        "# Week 2 Assignment"
      ]
    },
    {
      "cell_type": "code",
      "source": [
        "# Question 1= Create a program that manages a list of student names, allowing the user to add, remove, and display the list."
      ],
      "metadata": {
        "id": "hHFWSVpL78Nk"
      },
      "execution_count": null,
      "outputs": []
    },
    {
      "cell_type": "code",
      "source": [
        "# Solution 1:\n",
        "# Firse we initialize an empty list to store student names\n",
        "students = []\n",
        "while True:\n",
        "    # Displaying all the menu options to the user\n",
        "    print(\"\\nChoose an option:\")\n",
        "    print(\"1. Add a student\")\n",
        "    print(\"2. Remove a student\")\n",
        "    print(\"3. Display the list of students\")\n",
        "    print(\"4. Exit\")\n",
        "    # Then we get the user's choice\n",
        "    choice = input(\"Enter your choice (1-4): \")\n",
        "    # Then we add a student\n",
        "    if choice == '1':\n",
        "        name = input(\"Enter the student's name to add: \")\n",
        "        students.append(name)\n",
        "        print(f\"{name} has been added to the list.\")\n",
        "    # Then we remove a student\n",
        "    elif choice == '2':\n",
        "        name = input(\"Enter the student's name to remove: \")\n",
        "        if name in students:\n",
        "            students.remove(name)\n",
        "            print(f\"{name} has been removed from the list.\")\n",
        "        else:\n",
        "            print(f\"{name} is not in the list.\")\n",
        "    # Then we display the list of students\n",
        "    elif choice == '3':\n",
        "        if students:\n",
        "            print(\"\\nList of students:\")\n",
        "            for i, student in enumerate(students, 1):\n",
        "                print(f\"{i}. {student}\")\n",
        "        else:\n",
        "            print(\"The list is empty.\")\n",
        "    # Then we exit the program\n",
        "    elif choice == '4':\n",
        "        print(\"Exiting the program.\")\n",
        "        break\n",
        "    # Then we handle invalid input\n",
        "    else:\n",
        "        print(\"Invalid choice. Please enter a number between 1 and 4.\")"
      ],
      "metadata": {
        "colab": {
          "base_uri": "https://localhost:8080/"
        },
        "id": "bEhj7crO7-Q0",
        "outputId": "b8c4a218-eca8-4925-9c4a-97ea4cf02c17"
      },
      "execution_count": null,
      "outputs": [
        {
          "output_type": "stream",
          "name": "stdout",
          "text": [
            "\n",
            "Choose an option:\n",
            "1. Add a student\n",
            "2. Remove a student\n",
            "3. Display the list of students\n",
            "4. Exit\n",
            "Enter your choice (1-4): 1\n",
            "Enter the student's name to add: Sumit\n",
            "Sumit has been added to the list.\n",
            "\n",
            "Choose an option:\n",
            "1. Add a student\n",
            "2. Remove a student\n",
            "3. Display the list of students\n",
            "4. Exit\n",
            "Enter your choice (1-4): 3\n",
            "\n",
            "List of students:\n",
            "1. Sumit\n",
            "\n",
            "Choose an option:\n",
            "1. Add a student\n",
            "2. Remove a student\n",
            "3. Display the list of students\n",
            "4. Exit\n",
            "Enter your choice (1-4): 4\n",
            "Exiting the program.\n"
          ]
        }
      ]
    },
    {
      "cell_type": "code",
      "source": [
        "# Question 2: Write a script that counts the frequency of words in a given text and stores the result in a dictionary."
      ],
      "metadata": {
        "id": "z4lVicWG7_oL"
      },
      "execution_count": null,
      "outputs": []
    },
    {
      "cell_type": "code",
      "source": [
        "# First we input the user's text\n",
        "text = input(\"Enter the text: \")\n",
        "# Then we convert the text to lowercase and split it into words\n",
        "words = text.lower().split()\n",
        "# Then we initialize an empty dictionary to store the frequency of each word\n",
        "word_count = {}\n",
        "# Then we loop through each word in the list\n",
        "for word in words:\n",
        "    # Then if the word is already in the dictionary, we increment its count\n",
        "    if word in word_count:\n",
        "        word_count[word] += 1\n",
        "    # Then if the word is not in the dictionary, we add it with a count of 1\n",
        "    else:\n",
        "        word_count[word] = 1\n",
        "# Then we display the word frequency dictionary\n",
        "print(\"\\nWord Frequency:\")\n",
        "for word, count in word_count.items():\n",
        "    print(f\"{word}: {count}\")"
      ],
      "metadata": {
        "colab": {
          "base_uri": "https://localhost:8080/"
        },
        "id": "2Fsfr4vR8Hy0",
        "outputId": "5ec1e643-aa95-4e3e-cec6-06de78da7e17"
      },
      "execution_count": null,
      "outputs": [
        {
          "output_type": "stream",
          "name": "stdout",
          "text": [
            "Enter the text: I am Sumit\n",
            "\n",
            "Word Frequency:\n",
            "i: 1\n",
            "am: 1\n",
            "sumit: 1\n"
          ]
        }
      ]
    },
    {
      "cell_type": "code",
      "source": [
        "# Question 3: Implement a program that takes a tuple of integers and returns a new tuple with even numbers only."
      ],
      "metadata": {
        "id": "VLFZJH0R8nxX"
      },
      "execution_count": null,
      "outputs": []
    },
    {
      "cell_type": "code",
      "source": [
        "# First we input tuple of integers\n",
        "input_tuple = (1, 2, 3, 4, 5, 6, 7, 8, 9, 10)\n",
        "# Then we initialize an empty list to store even numbers\n",
        "even_numbers_list = []\n",
        "# Then we loop through each number in the input tuple\n",
        "for number in input_tuple:\n",
        "    # Then we check if the number is even\n",
        "    if number % 2 == 0:\n",
        "        # Then we add even number to the list\n",
        "        even_numbers_list.append(number)\n",
        "# Then we convert the list of even numbers back to a tuple\n",
        "even_numbers_tuple = tuple(even_numbers_list)\n",
        "# Then we display the new tuple with even numbers only\n",
        "print(\"New tuple with even numbers:\", even_numbers_tuple)"
      ],
      "metadata": {
        "colab": {
          "base_uri": "https://localhost:8080/"
        },
        "id": "o7JV9XC09E-R",
        "outputId": "675c09c7-44b0-43d3-ae51-7705e0aecc84"
      },
      "execution_count": null,
      "outputs": [
        {
          "output_type": "stream",
          "name": "stdout",
          "text": [
            "New tuple with even numbers: (2, 4, 6, 8, 10)\n"
          ]
        }
      ]
    }
  ]
}